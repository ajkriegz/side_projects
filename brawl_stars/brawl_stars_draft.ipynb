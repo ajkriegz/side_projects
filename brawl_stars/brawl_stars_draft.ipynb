{
 "cells": [
  {
   "cell_type": "code",
   "execution_count": 1,
   "metadata": {},
   "outputs": [],
   "source": [
    "# resources for creating and opening a simple path to a resource folder and opening images from that file\n",
    "# https://www.geeksforgeeks.org/python-os-path-join-method/\n",
    "# https://www.programcreek.com/python/example/1992/os.startfile\n",
    "\n",
    "# resource for creating the app\n",
    "# https://pythoninoffice.com/convert-a-python-script-to-executable-file-with-gui/\n",
    "def brawl_stars_draft():\n",
    "    import os\n",
    "    path = os.path.join(\"resources\", \"maxed characters.png\")\n",
    "    os.startfile(path)\n",
    "    print(\"Opening png file for \\\"maxed characters.png\\\"...\")\n",
    "    while True:\n",
    "        try: \n",
    "            map_name = input(\"Enter map name: \")\n",
    "            image_path = os.path.join(\"resources\", f\"{map_name}.png\")\n",
    "            os.startfile(image_path)\n",
    "            print(f\"Opening png file for \\\"{map_name}\\\"...\")\n",
    "            #break\n",
    "        except: \n",
    "            print(f\"No png on file for \\\"{map_name}...\\\"\")\n",
    "            #break\n"
   ]
  },
  {
   "cell_type": "code",
   "execution_count": 2,
   "metadata": {},
   "outputs": [
    {
     "name": "stdout",
     "output_type": "stream",
     "text": [
      "Opening png file for \"maxed characters.png\"...\n",
      "Opening png file for \"split\"...\n"
     ]
    }
   ],
   "source": [
    "brawl_stars_draft()"
   ]
  },
  {
   "cell_type": "code",
   "execution_count": null,
   "metadata": {},
   "outputs": [],
   "source": []
  },
  {
   "cell_type": "code",
   "execution_count": null,
   "metadata": {},
   "outputs": [],
   "source": []
  }
 ],
 "metadata": {
  "kernelspec": {
   "display_name": "Python 3.7.6 64-bit",
   "language": "python",
   "name": "python3"
  },
  "language_info": {
   "codemirror_mode": {
    "name": "ipython",
    "version": 3
   },
   "file_extension": ".py",
   "mimetype": "text/x-python",
   "name": "python",
   "nbconvert_exporter": "python",
   "pygments_lexer": "ipython3",
   "version": "3.7.6"
  },
  "orig_nbformat": 4,
  "vscode": {
   "interpreter": {
    "hash": "80946e5ffefc27e8c5abdde9f94e82a5e92a7ba3359d49f1aff873ab69446fea"
   }
  }
 },
 "nbformat": 4,
 "nbformat_minor": 2
}
