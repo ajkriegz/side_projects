{
 "cells": [
  {
   "cell_type": "code",
   "execution_count": 5,
   "metadata": {},
   "outputs": [],
   "source": [
    "# https://www.geeksforgeeks.org/python-os-path-join-method/\n",
    "# I would like to use the join method to make a variable with the join path method so the pngs can be put into a resources folder\n",
    "def brawl_stars_draft():\n",
    "    import os\n",
    "    while True:\n",
    "        os.startfile(\"maxed characters.png\")\n",
    "        print(\"Opening \\\"maxed characters.png\\\"\")\n",
    "        try: \n",
    "            map_name = input(\"Enter map name: \")\n",
    "            os.startfile(f\"{map_name}.png\")\n",
    "            print(f\"Opening png file for \\\"{map_name}\\\".\")\n",
    "            break\n",
    "        except: \n",
    "            print(f\"No png on file for \\\"{map_name}.\\\"\")\n"
   ]
  },
  {
   "cell_type": "code",
   "execution_count": 6,
   "metadata": {},
   "outputs": [
    {
     "name": "stdout",
     "output_type": "stream",
     "text": [
      "Opening \"maxed characters.png\"\n",
      "Opening png file for \"split\".\n"
     ]
    }
   ],
   "source": [
    "brawl_stars_draft()"
   ]
  },
  {
   "cell_type": "code",
   "execution_count": null,
   "metadata": {},
   "outputs": [],
   "source": []
  },
  {
   "cell_type": "code",
   "execution_count": null,
   "metadata": {},
   "outputs": [],
   "source": []
  }
 ],
 "metadata": {
  "kernelspec": {
   "display_name": "Python 3.7.6 64-bit",
   "language": "python",
   "name": "python3"
  },
  "language_info": {
   "codemirror_mode": {
    "name": "ipython",
    "version": 3
   },
   "file_extension": ".py",
   "mimetype": "text/x-python",
   "name": "python",
   "nbconvert_exporter": "python",
   "pygments_lexer": "ipython3",
   "version": "3.7.6"
  },
  "orig_nbformat": 4,
  "vscode": {
   "interpreter": {
    "hash": "80946e5ffefc27e8c5abdde9f94e82a5e92a7ba3359d49f1aff873ab69446fea"
   }
  }
 },
 "nbformat": 4,
 "nbformat_minor": 2
}
